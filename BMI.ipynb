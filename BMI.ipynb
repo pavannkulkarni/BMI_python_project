{
 "cells": [
  {
   "cell_type": "code",
   "execution_count": 28,
   "id": "0c8b74ba-4461-465d-be12-ede7090c7550",
   "metadata": {},
   "outputs": [
    {
     "name": "stdin",
     "output_type": "stream",
     "text": [
      "Enter Your Name Sourabh\n",
      "Enter your weight in pounds: 220\n",
      "Enter your height in inchs:  69\n"
     ]
    },
    {
     "name": "stdout",
     "output_type": "stream",
     "text": [
      "32.48477210670028\n",
      "Sourabh, you are obese\n"
     ]
    }
   ],
   "source": [
    "name = input (\"Enter Your Name\")\n",
    "\n",
    "weight = int(input(\"Enter your weight in pounds:\"))\n",
    "\n",
    "height = int(input(\"Enter your height in inchs: \"))\n",
    "\n",
    "BMI = (weight*703)/(height*height)\n",
    "\n",
    "print(BMI)\n",
    "\n",
    "if BMI>0:\n",
    "    if(BMI<18.5):\n",
    "        print(name+\", you are underweight\")\n",
    "    elif (BMI<=24.9):\n",
    "        print(name+\", you are normal weight\")\n",
    "    elif (BMI<29.9):\n",
    "        print(name+\", you are overweight\")\n",
    "    elif (BMI<34.9):\n",
    "        print(name+\", you are obese\")\n",
    "    elif (BMI<39.9):\n",
    "        print(name+\", you are severly obese\")\n",
    "    else:\n",
    "        print(name+\", you are morbidly obese\")\n",
    "else:\n",
    "    print(\"enter valid inputs\")\n"
   ]
  },
  {
   "cell_type": "code",
   "execution_count": null,
   "id": "00181ba5-f995-45e2-8fd0-5468e6321fb1",
   "metadata": {},
   "outputs": [],
   "source": []
  },
  {
   "cell_type": "code",
   "execution_count": null,
   "id": "3c8b5903-85bd-4a8a-a8e7-c9539a3a1809",
   "metadata": {},
   "outputs": [],
   "source": []
  },
  {
   "cell_type": "code",
   "execution_count": null,
   "id": "bf6c0fb2-28d6-44e3-aefe-c3c1e2edaed4",
   "metadata": {},
   "outputs": [],
   "source": []
  },
  {
   "cell_type": "code",
   "execution_count": null,
   "id": "d76783d2-f6bd-4610-b0a8-d3c6726f881d",
   "metadata": {},
   "outputs": [],
   "source": []
  },
  {
   "cell_type": "code",
   "execution_count": null,
   "id": "9b4599dd-4754-4177-a432-3cc267dfc6ca",
   "metadata": {},
   "outputs": [],
   "source": []
  },
  {
   "cell_type": "code",
   "execution_count": null,
   "id": "d4baf661-59c6-4e7b-9135-65ba239c45b1",
   "metadata": {},
   "outputs": [],
   "source": []
  },
  {
   "cell_type": "code",
   "execution_count": null,
   "id": "df1aae55-73ee-4eff-8c94-6c2c119a36fb",
   "metadata": {},
   "outputs": [],
   "source": []
  },
  {
   "cell_type": "code",
   "execution_count": null,
   "id": "6c5441f7-ea98-4bb2-98df-cfdbbf6dd91d",
   "metadata": {},
   "outputs": [],
   "source": []
  },
  {
   "cell_type": "code",
   "execution_count": null,
   "id": "aa146578-168d-4c74-864f-7bdf0ef4f4a1",
   "metadata": {},
   "outputs": [],
   "source": []
  },
  {
   "cell_type": "code",
   "execution_count": null,
   "id": "c77302f5-a481-43d1-8b00-9c974ab9bae4",
   "metadata": {},
   "outputs": [],
   "source": []
  },
  {
   "cell_type": "code",
   "execution_count": null,
   "id": "b3460f86-0a82-44a3-9ab3-5ab146557ff5",
   "metadata": {},
   "outputs": [],
   "source": []
  },
  {
   "cell_type": "code",
   "execution_count": null,
   "id": "a1d24308-9a19-486e-ba4f-7dc5ed7c82bb",
   "metadata": {},
   "outputs": [],
   "source": []
  },
  {
   "cell_type": "code",
   "execution_count": null,
   "id": "184d713d-c1f5-4eab-88ed-c4011a25ddd5",
   "metadata": {},
   "outputs": [],
   "source": []
  },
  {
   "cell_type": "code",
   "execution_count": null,
   "id": "a39e7c5e-b9cd-4d23-a118-d6751c4d3c37",
   "metadata": {},
   "outputs": [],
   "source": []
  },
  {
   "cell_type": "code",
   "execution_count": null,
   "id": "c6c53cb8-00ac-43b1-8d2a-24aaa2efe123",
   "metadata": {},
   "outputs": [],
   "source": []
  }
 ],
 "metadata": {
  "kernelspec": {
   "display_name": "Python [conda env:base] *",
   "language": "python",
   "name": "conda-base-py"
  },
  "language_info": {
   "codemirror_mode": {
    "name": "ipython",
    "version": 3
   },
   "file_extension": ".py",
   "mimetype": "text/x-python",
   "name": "python",
   "nbconvert_exporter": "python",
   "pygments_lexer": "ipython3",
   "version": "3.12.7"
  }
 },
 "nbformat": 4,
 "nbformat_minor": 5
}
